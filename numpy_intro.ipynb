{
 "cells": [
  {
   "cell_type": "code",
   "execution_count": null,
   "id": "192cc593-c03c-460a-aa90-51eacec9a2b6",
   "metadata": {},
   "outputs": [],
   "source": [
    "#numpy intro : "
   ]
  },
  {
   "cell_type": "code",
   "execution_count": 2,
   "id": "4dffd807-b527-4b44-897d-1c0c143825d4",
   "metadata": {},
   "outputs": [],
   "source": [
    "import numpy as np"
   ]
  },
  {
   "cell_type": "code",
   "execution_count": 4,
   "id": "0923d01a-d93d-4325-80c7-151f3effc0e8",
   "metadata": {},
   "outputs": [
    {
     "data": {
      "text/plain": [
       "array([ 1, 34, 67, 90])"
      ]
     },
     "execution_count": 4,
     "metadata": {},
     "output_type": "execute_result"
    }
   ],
   "source": [
    "a=[1,34,67,90]\n",
    "b=np.array(a)\n",
    "b\n",
    "b=np.array(a)\n",
    "b"
   ]
  },
  {
   "cell_type": "code",
   "execution_count": 3,
   "id": "299af9d3-e6ae-4e7d-a5d8-afbe4ff0e216",
   "metadata": {},
   "outputs": [
    {
     "name": "stdout",
     "output_type": "stream",
     "text": [
      "<class 'list'>\n",
      "<class 'numpy.ndarray'>\n"
     ]
    }
   ],
   "source": [
    "print(type(a))\n",
    "print(type(b))"
   ]
  },
  {
   "cell_type": "code",
   "execution_count": 4,
   "id": "9280fabd-da0b-40d7-8942-1e68b9a3d193",
   "metadata": {},
   "outputs": [
    {
     "name": "stdout",
     "output_type": "stream",
     "text": [
      "total shape =  (4,)\n",
      "total size =  4\n",
      "total dimension =  1\n"
     ]
    }
   ],
   "source": [
    "print(\"total shape = \",b.shape)  ##shape = n(rows),n(columns)\n",
    "print(\"total size = \",b.size)  ##total size of array= n(rows)*n(columns)\n",
    "print(\"total dimension = \",b.ndim)  ##total dimension of array= n(rows)"
   ]
  },
  {
   "cell_type": "code",
   "execution_count": 5,
   "id": "4a6c1022-c65d-40d9-b4f2-c81882b5d8b5",
   "metadata": {},
   "outputs": [
    {
     "name": "stdout",
     "output_type": "stream",
     "text": [
      "[[1 2 3]\n",
      " [4 5 6]\n",
      " [7 8 9]]\n"
     ]
    }
   ],
   "source": [
    "a=[[1,2,3],[4,5,6],[7,8,9]]\n",
    "b= np.array(a)\n",
    "print(b)\n"
   ]
  },
  {
   "cell_type": "code",
   "execution_count": 6,
   "id": "9896d45e-9a73-4d6b-9e95-9580ddc222f7",
   "metadata": {},
   "outputs": [
    {
     "name": "stdout",
     "output_type": "stream",
     "text": [
      "total shape =  (3, 3)\n",
      "total elements =  9\n",
      "total dimensions =  2\n"
     ]
    }
   ],
   "source": [
    "print(\"total shape = \",b.shape)  ##shape = n(rows),n(columns)\n",
    "print(\"total elements = \", b.size)  ##total size of array= n(rows)*n(columns)\n",
    "print(\"total dimensions = \", b.ndim )  ##total dimension of array= n(rows)\n"
   ]
  },
  {
   "cell_type": "code",
   "execution_count": 7,
   "id": "253849e3-6e07-421e-8fda-d32493716314",
   "metadata": {},
   "outputs": [
    {
     "name": "stdin",
     "output_type": "stream",
     "text": [
      "enter size 12\n",
      "enter item:  1\n",
      "enter item:  1\n",
      "enter item:  1\n",
      "enter item:  1\n",
      "enter item:  3\n",
      "enter item:  4\n",
      "enter item:  5\n",
      "enter item:  6\n",
      "enter item:  7\n",
      "enter item:  7\n",
      "enter item:  4\n",
      "enter item:  6\n"
     ]
    },
    {
     "name": "stdout",
     "output_type": "stream",
     "text": [
      "[1 1 1 1 3 4 5 6 7 7 4 6]\n"
     ]
    }
   ],
   "source": [
    "#user defiend array\n",
    "a=[]\n",
    "size= int(input(\"enter size\"))\n",
    "for i in range(size):\n",
    "    val = int(input(\"enter item: \"))\n",
    "    a.append(val)\n",
    "b= np.array(a)\n",
    "print(b)\n"
   ]
  },
  {
   "cell_type": "code",
   "execution_count": 8,
   "id": "b3c11bdc-2381-48ab-a66e-7d4ef2c47106",
   "metadata": {},
   "outputs": [
    {
     "name": "stdout",
     "output_type": "stream",
     "text": [
      "[0. 0. 0. 0.]\n"
     ]
    }
   ],
   "source": [
    "#pre-defined function of numpy\n",
    "#1.zeros--> returns an array of zeros, with shape defined by the parameter given\n",
    "a= np.zeros(4)\n",
    "print(a)"
   ]
  },
  {
   "cell_type": "code",
   "execution_count": 9,
   "id": "70490fd7-05e4-47c4-8f8e-e0d9580fb40b",
   "metadata": {},
   "outputs": [
    {
     "name": "stdout",
     "output_type": "stream",
     "text": [
      "[[0. 0. 0. 0.]\n",
      " [0. 0. 0. 0.]\n",
      " [0. 0. 0. 0.]]\n"
     ]
    }
   ],
   "source": [
    "b=np.zeros((3,4))\n",
    "print(b)"
   ]
  },
  {
   "cell_type": "code",
   "execution_count": 5,
   "id": "c166b3b1-ff26-4943-860f-e7cae00beb9e",
   "metadata": {},
   "outputs": [
    {
     "name": "stdout",
     "output_type": "stream",
     "text": [
      "[1. 1. 1. 1.]\n",
      "[[1. 1. 1.]\n",
      " [1. 1. 1.]]\n"
     ]
    }
   ],
   "source": [
    "#2.ones--> returns an array of ones, with shape defined by the parameter given\n",
    "c= np.ones(4)\n",
    "print(c)\n",
    "\n",
    "d=np.ones((2,3))\n",
    "print(d)\n"
   ]
  },
  {
   "cell_type": "code",
   "execution_count": 12,
   "id": "ca4aa7da-99d2-4742-a4ce-45b09ffb43a8",
   "metadata": {},
   "outputs": [
    {
     "name": "stdout",
     "output_type": "stream",
     "text": [
      "[[1. 0. 0. 0.]\n",
      " [0. 1. 0. 0.]\n",
      " [0. 0. 1. 0.]\n",
      " [0. 0. 0. 1.]]\n"
     ]
    }
   ],
   "source": [
    "#use cases of numpy\n",
    "#images -->\n",
    "#pixels(0-255) --> b&w images = height , width\n",
    "#colourfull images = height , width , colour_channel(r,g,b)\n",
    "#machine_learning --> actual_answer , prediction_answer ---> optimization techninque(m,b)\n",
    "\n",
    "#3. eye() --> returns a 2D array with ones on the main diagonal and zeros elsewhere\n",
    "e= np.eye( 4)\n",
    "print(e)"
   ]
  },
  {
   "cell_type": "code",
   "execution_count": 5,
   "id": "069a397a-849f-49d3-a92f-7c3bfac2c7aa",
   "metadata": {},
   "outputs": [
    {
     "name": "stdout",
     "output_type": "stream",
     "text": [
      "[[1. 0. 0. 0.]\n",
      " [0. 1. 0. 0.]\n",
      " [0. 0. 1. 0.]]\n"
     ]
    }
   ],
   "source": [
    "f= np.eye(3,4)\n",
    "print(f)\n"
   ]
  },
  {
   "cell_type": "code",
   "execution_count": 6,
   "id": "e671442e-b993-45d3-b21d-16aa48eb46e6",
   "metadata": {},
   "outputs": [],
   "source": [
    "#4. diag()--> it will create an array in which we can set diagonal positional elements"
   ]
  },
  {
   "cell_type": "code",
   "execution_count": 7,
   "id": "60498563-f4aa-463d-bd65-2616b8f162ac",
   "metadata": {},
   "outputs": [
    {
     "data": {
      "text/plain": [
       "array([1, 3, 5, 5, 2])"
      ]
     },
     "execution_count": 7,
     "metadata": {},
     "output_type": "execute_result"
    }
   ],
   "source": [
    "a=np.array([1,3,5,5,2])\n",
    "a"
   ]
  },
  {
   "cell_type": "code",
   "execution_count": 8,
   "id": "f262b4b1-704b-4db1-ac75-46d513069c3f",
   "metadata": {},
   "outputs": [
    {
     "data": {
      "text/plain": [
       "array([[1, 0, 0, 0, 0],\n",
       "       [0, 3, 0, 0, 0],\n",
       "       [0, 0, 5, 0, 0],\n",
       "       [0, 0, 0, 5, 0],\n",
       "       [0, 0, 0, 0, 2]])"
      ]
     },
     "execution_count": 8,
     "metadata": {},
     "output_type": "execute_result"
    }
   ],
   "source": [
    "b=np.diag(a)\n",
    "b"
   ]
  },
  {
   "cell_type": "code",
   "execution_count": 9,
   "id": "d81e3c02-1abf-4edd-81c9-c5765dd46826",
   "metadata": {},
   "outputs": [],
   "source": [
    "#(5): random module"
   ]
  },
  {
   "cell_type": "code",
   "execution_count": 11,
   "id": "bb8430a2-5378-4cb7-99b8-2b05e229857e",
   "metadata": {},
   "outputs": [],
   "source": [
    "#a). Randint()-> randint(min_range , max_range , how many numbers u want)\n"
   ]
  },
  {
   "cell_type": "code",
   "execution_count": 3,
   "id": "14b70e52-4dc5-4eb3-8bf8-2a4a8567216a",
   "metadata": {},
   "outputs": [
    {
     "data": {
      "text/plain": [
       "array([6, 4, 7])"
      ]
     },
     "execution_count": 3,
     "metadata": {},
     "output_type": "execute_result"
    }
   ],
   "source": [
    "a= np.random.randint(1,10,3)\n",
    "a"
   ]
  },
  {
   "cell_type": "code",
   "execution_count": 5,
   "id": "630939c7-2d4c-4999-92ef-9ad149698188",
   "metadata": {},
   "outputs": [],
   "source": [
    "##b).Rand()->> it will generate random number in range 0-1.(how many number u want)\n",
    "# it is fixed "
   ]
  },
  {
   "cell_type": "code",
   "execution_count": 19,
   "id": "122fd8a0-5511-4d57-9b52-6b9c54d18e74",
   "metadata": {},
   "outputs": [
    {
     "data": {
      "text/plain": [
       "array([0.65624891, 0.05038032, 0.08838312, 0.19902847])"
      ]
     },
     "execution_count": 19,
     "metadata": {},
     "output_type": "execute_result"
    }
   ],
   "source": [
    "\n",
    "a=np.random.rand(4)\n",
    "a"
   ]
  },
  {
   "cell_type": "code",
   "execution_count": 21,
   "id": "d08dfcc0-84f2-4f05-ad94-9e00d3458454",
   "metadata": {},
   "outputs": [],
   "source": [
    "a = np.random.rand(2,3)"
   ]
  },
  {
   "cell_type": "code",
   "execution_count": 22,
   "id": "19a92e5b-549a-41bf-85c4-1a947c8ccc44",
   "metadata": {},
   "outputs": [
    {
     "name": "stdout",
     "output_type": "stream",
     "text": [
      "[[0.38926846 0.40926768 0.42495507]\n",
      " [0.26255267 0.55289308 0.51592366]]\n"
     ]
    }
   ],
   "source": [
    "print(a)"
   ]
  },
  {
   "cell_type": "code",
   "execution_count": 26,
   "id": "95772f77-f224-42ca-9a6c-0c18c271fda1",
   "metadata": {},
   "outputs": [],
   "source": [
    "#c. SEED: --> it will fix our random generated data\n"
   ]
  },
  {
   "cell_type": "code",
   "execution_count": 7,
   "id": "47095e6a-4a6a-43ea-a273-c074eecc40b3",
   "metadata": {},
   "outputs": [
    {
     "data": {
      "text/plain": [
       "array([6, 1, 4])"
      ]
     },
     "execution_count": 7,
     "metadata": {},
     "output_type": "execute_result"
    }
   ],
   "source": [
    "np.random.seed(0)                                                           ########\n",
    "a= np.random.randint(1,10,3)\n",
    "a"
   ]
  },
  {
   "cell_type": "code",
   "execution_count": null,
   "id": "4089663b-97fd-4f86-8ff8-1f06662bc681",
   "metadata": {},
   "outputs": [],
   "source": [
    "#view vs copy           \n",
    "#view---> modify in original data\n",
    "#copy---> changes in duplicate entries\n",
    "##### copy?"
   ]
  },
  {
   "cell_type": "code",
   "execution_count": 8,
   "id": "2f4579fe-5ce2-4ea7-b970-9a5052bbeaea",
   "metadata": {},
   "outputs": [
    {
     "data": {
      "text/plain": [
       "array([10, 20, 30, 40, 50, 60, 70, 80, 90])"
      ]
     },
     "execution_count": 8,
     "metadata": {},
     "output_type": "execute_result"
    }
   ],
   "source": [
    "a=np.array([10,20,30,40,50,60,70,80,90])\n",
    "a"
   ]
  },
  {
   "cell_type": "code",
   "execution_count": 11,
   "id": "e89e44e4-c7d5-4198-b2e3-b0c11d2887b2",
   "metadata": {},
   "outputs": [
    {
     "data": {
      "text/plain": [
       "array([10, 20, 30,  0,  0,  0, 70, 80, 90])"
      ]
     },
     "execution_count": 11,
     "metadata": {},
     "output_type": "execute_result"
    }
   ],
   "source": [
    "#view \n",
    "b=a[3:6]\n",
    "b[:]= 0\n",
    "b\n",
    "a"
   ]
  },
  {
   "cell_type": "code",
   "execution_count": 19,
   "id": "30c4e44f-b7b0-4e06-95f8-0bc1731836af",
   "metadata": {},
   "outputs": [
    {
     "data": {
      "text/plain": [
       "array([10, 20, 30, 40, 50, 60, 70, 80, 90])"
      ]
     },
     "execution_count": 19,
     "metadata": {},
     "output_type": "execute_result"
    }
   ],
   "source": [
    "a=np.array([10,20,30,40,50,60,70,80,90])\n",
    "a"
   ]
  },
  {
   "cell_type": "code",
   "execution_count": 20,
   "id": "0c723b74-7d9c-4bba-ab0b-b4c2d49cc7a8",
   "metadata": {},
   "outputs": [
    {
     "data": {
      "text/plain": [
       "array([10, 20, 30, 40, 50, 60, 70, 80, 90])"
      ]
     },
     "execution_count": 20,
     "metadata": {},
     "output_type": "execute_result"
    }
   ],
   "source": [
    "#copy\n",
    "b=a[3:6].copy()\n",
    "b[:]=0\n",
    "b\n",
    "a"
   ]
  },
  {
   "cell_type": "code",
   "execution_count": 35,
   "id": "e2b3214f-9686-4456-9905-900f64a0f8b3",
   "metadata": {},
   "outputs": [],
   "source": [
    "#conditional statements in numpy"
   ]
  },
  {
   "cell_type": "code",
   "execution_count": 37,
   "id": "8a17bbdd-ecd9-470e-84d5-582ee23eb7e9",
   "metadata": {},
   "outputs": [
    {
     "data": {
      "text/plain": [
       "array([ 1,  2,  3,  4,  5,  6,  7,  8,  9, 10, 11, 12, 13, 14, 15])"
      ]
     },
     "execution_count": 37,
     "metadata": {},
     "output_type": "execute_result"
    }
   ],
   "source": [
    "a=np.arange(1,16,1)\n",
    "a"
   ]
  },
  {
   "cell_type": "code",
   "execution_count": 38,
   "id": "eb839f09-fb36-49ff-9a88-ffbb6e3d2038",
   "metadata": {},
   "outputs": [
    {
     "data": {
      "text/plain": [
       "array([False, False, False, False, False, False, False, False, False,\n",
       "       False,  True,  True,  True,  True,  True])"
      ]
     },
     "execution_count": 38,
     "metadata": {},
     "output_type": "execute_result"
    }
   ],
   "source": [
    "a>10"
   ]
  },
  {
   "cell_type": "code",
   "execution_count": 40,
   "id": "2c121ac5-a087-486b-b9b5-242ee924978f",
   "metadata": {},
   "outputs": [
    {
     "data": {
      "text/plain": [
       "array([ 2,  4,  6,  8, 10, 12, 14])"
      ]
     },
     "execution_count": 40,
     "metadata": {},
     "output_type": "execute_result"
    }
   ],
   "source": [
    "a[a%2==0]"
   ]
  },
  {
   "cell_type": "code",
   "execution_count": 41,
   "id": "9750db82-a9e4-47ed-b704-a6e53db9012d",
   "metadata": {},
   "outputs": [],
   "source": [
    "#reshaping the array"
   ]
  },
  {
   "cell_type": "code",
   "execution_count": 43,
   "id": "a876933f-3499-461b-b252-185692d6e060",
   "metadata": {},
   "outputs": [
    {
     "data": {
      "text/plain": [
       "array([[1, 2],\n",
       "       [3, 4]])"
      ]
     },
     "execution_count": 43,
     "metadata": {},
     "output_type": "execute_result"
    }
   ],
   "source": [
    "a= np.array([1,2,3,4]).reshape(2,2)\n",
    "a"
   ]
  },
  {
   "cell_type": "code",
   "execution_count": 44,
   "id": "ffa9f102-d62c-4ea3-be08-0ec3c624a1da",
   "metadata": {},
   "outputs": [
    {
     "data": {
      "text/plain": [
       "array([[1, 2],\n",
       "       [3, 4]])"
      ]
     },
     "execution_count": 44,
     "metadata": {},
     "output_type": "execute_result"
    }
   ],
   "source": [
    "b= np.array([1,2,3,4]).reshape(2,2)\n",
    "b"
   ]
  },
  {
   "cell_type": "code",
   "execution_count": 45,
   "id": "f6e2b721-a4cf-4217-a587-7bd9383563dd",
   "metadata": {},
   "outputs": [
    {
     "data": {
      "text/plain": [
       "array([[2, 4],\n",
       "       [6, 8]])"
      ]
     },
     "execution_count": 45,
     "metadata": {},
     "output_type": "execute_result"
    }
   ],
   "source": [
    "a+b"
   ]
  },
  {
   "cell_type": "code",
   "execution_count": 46,
   "id": "a95322f9-1bdf-46b1-8ac8-ec4757d158af",
   "metadata": {},
   "outputs": [
    {
     "data": {
      "text/plain": [
       "array([[0, 0],\n",
       "       [0, 0]])"
      ]
     },
     "execution_count": 46,
     "metadata": {},
     "output_type": "execute_result"
    }
   ],
   "source": [
    "a-b"
   ]
  },
  {
   "cell_type": "code",
   "execution_count": 48,
   "id": "5084d27d-8e3f-41d8-8b35-865398039194",
   "metadata": {},
   "outputs": [
    {
     "data": {
      "text/plain": [
       "array([[ 1,  4],\n",
       "       [ 9, 16]])"
      ]
     },
     "execution_count": 48,
     "metadata": {},
     "output_type": "execute_result"
    }
   ],
   "source": [
    "a*b                  #wrong"
   ]
  },
  {
   "cell_type": "code",
   "execution_count": 49,
   "id": "9c053c66-f09d-40a1-bb90-8ea8efc5c699",
   "metadata": {},
   "outputs": [
    {
     "data": {
      "text/plain": [
       "array([[ 7, 10],\n",
       "       [15, 22]])"
      ]
     },
     "execution_count": 49,
     "metadata": {},
     "output_type": "execute_result"
    }
   ],
   "source": [
    "a.dot(b)"
   ]
  },
  {
   "cell_type": "code",
   "execution_count": 50,
   "id": "9cc6ff80-621b-415b-b05c-0270cd226c24",
   "metadata": {},
   "outputs": [
    {
     "data": {
      "text/plain": [
       "array([ 5, 36,  6, 12, 43, 15, 30, 19, 30, 26, 30, 39])"
      ]
     },
     "execution_count": 50,
     "metadata": {},
     "output_type": "execute_result"
    }
   ],
   "source": [
    "a=np.random.randint(1,50,12)\n",
    "a"
   ]
  },
  {
   "cell_type": "code",
   "execution_count": 25,
   "id": "005e23fc-f7c9-4814-aa88-303eaa2f0b2b",
   "metadata": {},
   "outputs": [],
   "source": [
    "#factors of 12 can make reshape of the array"
   ]
  },
  {
   "cell_type": "code",
   "execution_count": 54,
   "id": "44ba9328-240d-439d-9cfa-c802ff2450bd",
   "metadata": {},
   "outputs": [
    {
     "data": {
      "text/plain": [
       "array([[ 5, 36,  6, 12],\n",
       "       [43, 15, 30, 19],\n",
       "       [30, 26, 30, 39]])"
      ]
     },
     "execution_count": 54,
     "metadata": {},
     "output_type": "execute_result"
    }
   ],
   "source": [
    "a.reshape(3,4)"
   ]
  },
  {
   "cell_type": "code",
   "execution_count": 55,
   "id": "e0661781-6888-4375-9dd4-59b298ac80d3",
   "metadata": {},
   "outputs": [
    {
     "data": {
      "text/plain": [
       "array([[ 5, 36],\n",
       "       [ 6, 12],\n",
       "       [43, 15],\n",
       "       [30, 19],\n",
       "       [30, 26],\n",
       "       [30, 39]])"
      ]
     },
     "execution_count": 55,
     "metadata": {},
     "output_type": "execute_result"
    }
   ],
   "source": [
    "a.reshape(6,2)"
   ]
  },
  {
   "cell_type": "code",
   "execution_count": 29,
   "id": "28b43bc7-09cc-449d-b99c-364a68b4a2ca",
   "metadata": {},
   "outputs": [],
   "source": [
    "#a.reshape(2,7)    \n",
    "#will throw an error"
   ]
  },
  {
   "cell_type": "code",
   "execution_count": 57,
   "id": "858fc29f-d4a5-424a-91c4-a3d012e9db71",
   "metadata": {},
   "outputs": [
    {
     "data": {
      "text/plain": [
       "array([[1, 2, 3],\n",
       "       [4, 5, 6],\n",
       "       [7, 8, 9]])"
      ]
     },
     "execution_count": 57,
     "metadata": {},
     "output_type": "execute_result"
    }
   ],
   "source": [
    "a= np.arange(1,10).reshape(3,3)\n",
    "a"
   ]
  },
  {
   "cell_type": "code",
   "execution_count": 27,
   "id": "b0eaf965-f4e9-4d53-adc7-6f94e4694f87",
   "metadata": {},
   "outputs": [
    {
     "data": {
      "text/plain": [
       "300"
      ]
     },
     "execution_count": 27,
     "metadata": {},
     "output_type": "execute_result"
    }
   ],
   "source": [
    "np.sum(a)  #sum of total elements"
   ]
  },
  {
   "cell_type": "code",
   "execution_count": 59,
   "id": "ac1d8bcc-bac5-4568-898e-e46a5b696f96",
   "metadata": {},
   "outputs": [
    {
     "data": {
      "text/plain": [
       "array([12, 15, 18])"
      ]
     },
     "execution_count": 59,
     "metadata": {},
     "output_type": "execute_result"
    }
   ],
   "source": [
    "np.sum(a , axis = 0) #axis 0 = column wise"
   ]
  },
  {
   "cell_type": "code",
   "execution_count": 60,
   "id": "3affeb44-d703-4572-a05f-a5b84b5bf182",
   "metadata": {},
   "outputs": [
    {
     "data": {
      "text/plain": [
       "array([ 6, 15, 24])"
      ]
     },
     "execution_count": 60,
     "metadata": {},
     "output_type": "execute_result"
    }
   ],
   "source": [
    "np.sum(a,axis=1) #axis =1 = row wise"
   ]
  },
  {
   "cell_type": "code",
   "execution_count": 61,
   "id": "18094156-662e-4b04-99a3-076dc591fa7e",
   "metadata": {},
   "outputs": [],
   "source": [
    "#unique()---> it will create an array in which we have unique valuses"
   ]
  },
  {
   "cell_type": "code",
   "execution_count": 62,
   "id": "a1db6ded-799d-4fe2-981d-2ead003c3137",
   "metadata": {},
   "outputs": [],
   "source": [
    "#retuen 3 array\n",
    "#arr--> unique array\n",
    "#reteun_index = True ---> unique values indexing\n",
    "#return_counts = True---> unique values frequency"
   ]
  },
  {
   "cell_type": "code",
   "execution_count": 64,
   "id": "f8f0f86e-3f0c-4ca8-9113-0ce136493d73",
   "metadata": {},
   "outputs": [
    {
     "data": {
      "text/plain": [
       "array([1, 2, 3, 4, 5, 6, 6, 6, 7, 7, 7, 7, 7, 7, 3])"
      ]
     },
     "execution_count": 64,
     "metadata": {},
     "output_type": "execute_result"
    }
   ],
   "source": [
    "a= np.array([1,2,3,4,5,6,6,6,7,7,7,7,7,7,3])\n",
    "a"
   ]
  },
  {
   "cell_type": "code",
   "execution_count": 65,
   "id": "a7f92481-e7dc-4517-84e1-3f1243052c6c",
   "metadata": {},
   "outputs": [
    {
     "data": {
      "text/plain": [
       "(array([1, 2, 3, 4, 5, 6, 7]),\n",
       " array([0, 1, 2, 3, 4, 5, 8], dtype=int64),\n",
       " array([1, 1, 2, 1, 1, 3, 6], dtype=int64))"
      ]
     },
     "execution_count": 65,
     "metadata": {},
     "output_type": "execute_result"
    }
   ],
   "source": [
    "np.unique(a,return_index = True , return_counts = True)"
   ]
  },
  {
   "cell_type": "code",
   "execution_count": 66,
   "id": "6c612fc3-6800-4079-a2b3-7d02f9b4ada8",
   "metadata": {},
   "outputs": [],
   "source": [
    "#linspace ---> it will return same gap values from a given range"
   ]
  },
  {
   "cell_type": "code",
   "execution_count": 68,
   "id": "f57adfb2-9b06-4b87-83a7-b8442002decc",
   "metadata": {},
   "outputs": [
    {
     "data": {
      "text/plain": [
       "array([1.  , 1.25, 1.5 , 1.75, 2.  ])"
      ]
     },
     "execution_count": 68,
     "metadata": {},
     "output_type": "execute_result"
    }
   ],
   "source": [
    "a= np.linspace(1,2,5)\n",
    "a"
   ]
  },
  {
   "cell_type": "code",
   "execution_count": 69,
   "id": "6cd3f4b7-3342-4897-9fb1-895fcdca5927",
   "metadata": {},
   "outputs": [],
   "source": [
    "#1.25 - 1 = 0.25\n",
    "# 2.5 - 1.25 = 0.25 \n",
    "# 1.75 - 1.5 =0.25\n",
    "# 2- 1.75 = 0.25\n"
   ]
  },
  {
   "cell_type": "code",
   "execution_count": 70,
   "id": "47923c3f-f2b0-4176-b4af-df1dc231effe",
   "metadata": {},
   "outputs": [
    {
     "data": {
      "text/plain": [
       "array([1, 2, 3, 4, 5, 6, 7, 8, 9])"
      ]
     },
     "execution_count": 70,
     "metadata": {},
     "output_type": "execute_result"
    }
   ],
   "source": [
    "#stacking \n",
    "#(1). HSTACK()-->\n",
    "a=np.array([1,2,3])\n",
    "b=np.array([4,5,6])\n",
    "c=np.array([7,8,9])\n",
    "np.hstack((a,b,c))"
   ]
  },
  {
   "cell_type": "code",
   "execution_count": 71,
   "id": "185e548f-3e61-401c-97d7-7add3fe4fc03",
   "metadata": {},
   "outputs": [
    {
     "data": {
      "text/plain": [
       "array([[1, 2, 3],\n",
       "       [4, 5, 6],\n",
       "       [7, 8, 9]])"
      ]
     },
     "execution_count": 71,
     "metadata": {},
     "output_type": "execute_result"
    }
   ],
   "source": [
    "#(2). VASTACK()--->\n",
    "a=np.array([1,2,3])\n",
    "b=np.array([4,5,6])\n",
    "c=np.array([7,8,9])\n",
    "np.vstack((a,b,c))"
   ]
  },
  {
   "cell_type": "code",
   "execution_count": null,
   "id": "f7113714-083b-453a-9aff-15c8c409433c",
   "metadata": {},
   "outputs": [],
   "source": [
    "#array is used to perform operations on all of its elements "
   ]
  },
  {
   "cell_type": "code",
   "execution_count": 72,
   "id": "b14b9936-560e-4901-840f-fd6ea934bf91",
   "metadata": {},
   "outputs": [],
   "source": [
    "#create an array using numpy?\n",
    "#create an array of 10 random integers?\n",
    "#create an array of elements from 10-20?\n",
    "#create an array which contains value 5,10 times ?\n",
    "#create a one d array and convert that into 3*3 matrix\n",
    "#create a 2d array of size 3*3 but all the elements should be b/w 0 to 1?\n",
    "#concatenate 2d array horizontally and vertically?"
   ]
  },
  {
   "cell_type": "code",
   "execution_count": 73,
   "id": "90d53b31-cceb-4451-ad7a-3be406d946b0",
   "metadata": {},
   "outputs": [
    {
     "data": {
      "text/plain": [
       "array([1, 3, 4])"
      ]
     },
     "execution_count": 73,
     "metadata": {},
     "output_type": "execute_result"
    }
   ],
   "source": [
    "#create an array using numpy?\n",
    "a= np.array([1,3,4])\n",
    "a"
   ]
  },
  {
   "cell_type": "code",
   "execution_count": 78,
   "id": "02bf84ca-ac40-4845-8ca5-ce84c9603fda",
   "metadata": {},
   "outputs": [
    {
     "data": {
      "text/plain": [
       "array([1, 6, 5, 4, 4, 6, 6, 9, 9, 5])"
      ]
     },
     "execution_count": 78,
     "metadata": {},
     "output_type": "execute_result"
    }
   ],
   "source": [
    "#create an array of 10 random integers?\n",
    "a= np.random.randint(1,10,10)\n",
    "a"
   ]
  },
  {
   "cell_type": "code",
   "execution_count": 81,
   "id": "f698a51c-65ea-4ffa-89fb-77e0c66ab4ba",
   "metadata": {},
   "outputs": [
    {
     "data": {
      "text/plain": [
       "array([10, 11, 12, 13, 14, 15, 16, 17, 18, 19])"
      ]
     },
     "execution_count": 81,
     "metadata": {},
     "output_type": "execute_result"
    }
   ],
   "source": [
    "#create an array of elements from 10-20?\n",
    "a= np.arange(10,20)\n",
    "a"
   ]
  },
  {
   "cell_type": "code",
   "execution_count": 84,
   "id": "8f500f08-c4a5-44d5-823e-5ee2915ba5c0",
   "metadata": {},
   "outputs": [
    {
     "data": {
      "text/plain": [
       "array([5, 5, 5, 5, 5, 5, 5, 5, 5, 5])"
      ]
     },
     "execution_count": 84,
     "metadata": {},
     "output_type": "execute_result"
    }
   ],
   "source": [
    "#create an array which contains value 5,10 times ?\n",
    "a= np.repeat(5,10)\n",
    "a"
   ]
  },
  {
   "cell_type": "code",
   "execution_count": 14,
   "id": "912c1f48-3ffa-4cdb-a1a9-c470fc396837",
   "metadata": {},
   "outputs": [
    {
     "name": "stdout",
     "output_type": "stream",
     "text": [
      "[[1 2 3]\n",
      " [4 5 6]\n",
      " [7 8 9]]\n"
     ]
    }
   ],
   "source": [
    "# create a one d array and convert that into 3*3 matrix\n",
    "b= np.arange(1,10)\n",
    "b\n",
    "c=b.reshape(3,3)\n",
    "print(c)"
   ]
  },
  {
   "cell_type": "code",
   "execution_count": 100,
   "id": "51fdb1d2-4ca4-462a-8907-eadc98b5d9de",
   "metadata": {},
   "outputs": [
    {
     "data": {
      "text/plain": [
       "array([[1., 0., 0.],\n",
       "       [0., 1., 0.],\n",
       "       [0., 0., 1.]])"
      ]
     },
     "execution_count": 100,
     "metadata": {},
     "output_type": "execute_result"
    }
   ],
   "source": [
    "#create a 2d array of size 3*3 but all the elements should be b/w 0 to 1?\n",
    "e= np.eye(3)\n",
    "e"
   ]
  },
  {
   "cell_type": "code",
   "execution_count": 17,
   "id": "dda12bae-3f38-4577-93fe-812fa280be90",
   "metadata": {},
   "outputs": [
    {
     "data": {
      "text/plain": [
       "array([[1, 2, 3, 1, 2, 3],\n",
       "       [4, 5, 6, 4, 5, 6]])"
      ]
     },
     "execution_count": 17,
     "metadata": {},
     "output_type": "execute_result"
    }
   ],
   "source": [
    "#concatenate 2d array horizontally and vertically?\n",
    "a= np.array([[1,2,3] , [4,5,6]])\n",
    "b = np.concatenate((a,a), axis=0)\n",
    "c = np.concatenate((a, a), axis=1)\n",
    "b\n",
    "c"
   ]
  },
  {
   "cell_type": "code",
   "execution_count": 108,
   "id": "11267fcf-b6eb-4333-81ad-e6eb99c551f9",
   "metadata": {},
   "outputs": [
    {
     "name": "stdout",
     "output_type": "stream",
     "text": [
      "[[1 2 3 1 2 3]\n",
      " [4 5 6 4 5 6]]\n"
     ]
    }
   ],
   "source": [
    "print(c)"
   ]
  },
  {
   "cell_type": "code",
   "execution_count": 12,
   "id": "8e354750-862d-4e86-9ae6-1a8bce7930a3",
   "metadata": {},
   "outputs": [
    {
     "name": "stdout",
     "output_type": "stream",
     "text": [
      "{3}\n"
     ]
    }
   ],
   "source": [
    "x = {1,2,3}\n",
    "y = {3,4,5}\n",
    "print(x & y)"
   ]
  },
  {
   "cell_type": "code",
   "execution_count": null,
   "id": "f2eeb363-b055-4965-95ad-49509f64dfe6",
   "metadata": {},
   "outputs": [],
   "source": []
  }
 ],
 "metadata": {
  "kernelspec": {
   "display_name": "Python 3 (ipykernel)",
   "language": "python",
   "name": "python3"
  },
  "language_info": {
   "codemirror_mode": {
    "name": "ipython",
    "version": 3
   },
   "file_extension": ".py",
   "mimetype": "text/x-python",
   "name": "python",
   "nbconvert_exporter": "python",
   "pygments_lexer": "ipython3",
   "version": "3.12.7"
  }
 },
 "nbformat": 4,
 "nbformat_minor": 5
}
