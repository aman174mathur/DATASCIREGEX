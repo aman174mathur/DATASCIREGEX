{
 "cells": [
  {
   "cell_type": "code",
   "execution_count": null,
   "metadata": {},
   "outputs": [],
   "source": [
    "#covid data \n",
    "#df.dtypes \n",
    "#categorical_columns. missing value fill-> Encode \n",
    "#numerical_columns ---> missing value fill---> Standardize. \n",
    "# Finally connect your all data. \n",
    "#create a Function in which as an argument you will pass your data and then your function \n",
    "#will do upper steps "
   ]
  },
  {
   "cell_type": "code",
   "execution_count": 5,
   "metadata": {},
   "outputs": [
    {
     "name": "stdout",
     "output_type": "stream",
     "text": [
      "Requirement already satisfied: scikit-learn in d:\\anacondanavfile\\lib\\site-packages (1.5.1)\n",
      "Requirement already satisfied: numpy>=1.19.5 in d:\\anacondanavfile\\lib\\site-packages (from scikit-learn) (1.26.4)\n",
      "Requirement already satisfied: scipy>=1.6.0 in d:\\anacondanavfile\\lib\\site-packages (from scikit-learn) (1.13.1)\n",
      "Requirement already satisfied: joblib>=1.2.0 in d:\\anacondanavfile\\lib\\site-packages (from scikit-learn) (1.4.2)\n",
      "Requirement already satisfied: threadpoolctl>=3.1.0 in d:\\anacondanavfile\\lib\\site-packages (from scikit-learn) (3.5.0)\n",
      "Note: you may need to restart the kernel to use updated packages.\n"
     ]
    }
   ],
   "source": [
    "# df  = pd.read_csv(\"covid_toy.csv\")\n",
    "%pip install scikit-learn"
   ]
  },
  {
   "cell_type": "code",
   "execution_count": 6,
   "metadata": {},
   "outputs": [
    {
     "name": "stdout",
     "output_type": "stream",
     "text": [
      "   total_bill       tip  sex  smoker  day  time      size\n",
      "0   -0.314711 -1.439947    0       0    2     0 -0.600193\n",
      "1   -1.063235 -0.969205    1       0    2     0  0.453383\n",
      "2    0.137780  0.363356    1       0    2     0  0.453383\n",
      "3    0.438315  0.225754    1       0    2     0 -0.600193\n",
      "4    0.540745  0.443020    0       0    2     0  1.506958\n"
     ]
    }
   ],
   "source": [
    "import pandas as pd\n",
    "from sklearn.impute import SimpleImputer\n",
    "from sklearn.preprocessing import LabelEncoder, StandardScaler\n",
    "\n",
    "def preprocess_covid_data(file_path):\n",
    "    # loading  the data\n",
    "    df = pd.read_csv(file_path)\n",
    "\n",
    "    # separating  categorical and numerical columns\n",
    "    categorical_col = df.select_dtypes(exclude=[\"number\"]).columns\n",
    "    numerical_col = df.select_dtypes(include=[\"number\"]).columns\n",
    "\n",
    "    # filling  missing values\n",
    "    si_categorical = SimpleImputer(strategy=\"constant\", fill_value=\"missing\")\n",
    "    si_numerical = SimpleImputer(strategy=\"mean\")\n",
    "    df[categorical_col] = si_categorical.fit_transform(df[categorical_col])\n",
    "    df[numerical_col] = si_numerical.fit_transform(df[numerical_col])\n",
    "\n",
    "    # encode categorical data\n",
    "    le = LabelEncoder()\n",
    "    for col in categorical_col:\n",
    "        df[col] = le.fit_transform(df[col])\n",
    "\n",
    "    # standardize numerical columns\n",
    "    ss = StandardScaler()\n",
    "    df[numerical_col] = ss.fit_transform(df[numerical_col])\n",
    "\n",
    "    return df\n",
    "\n",
    "daata = preprocess_covid_data(\"tips.csv\")\n",
    "print(daata.head())"
   ]
  },
  {
   "cell_type": "code",
   "execution_count": null,
   "metadata": {},
   "outputs": [],
   "source": []
  }
 ],
 "metadata": {
  "kernelspec": {
   "display_name": "base",
   "language": "python",
   "name": "python3"
  },
  "language_info": {
   "codemirror_mode": {
    "name": "ipython",
    "version": 3
   },
   "file_extension": ".py",
   "mimetype": "text/x-python",
   "name": "python",
   "nbconvert_exporter": "python",
   "pygments_lexer": "ipython3",
   "version": "3.12.7"
  }
 },
 "nbformat": 4,
 "nbformat_minor": 2
}
