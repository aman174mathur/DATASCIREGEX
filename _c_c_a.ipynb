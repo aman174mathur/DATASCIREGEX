{
 "cells": [
  {
   "cell_type": "code",
   "execution_count": 2,
   "id": "35474752",
   "metadata": {},
   "outputs": [],
   "source": [
    "# C C a : complete case analysis "
   ]
  },
  {
   "cell_type": "code",
   "execution_count": 1,
   "id": "fce831d6",
   "metadata": {},
   "outputs": [],
   "source": [
    "import numpy as np\n",
    "import pandas as pd"
   ]
  },
  {
   "cell_type": "code",
   "execution_count": null,
   "id": "bd216d16",
   "metadata": {},
   "outputs": [],
   "source": [
    "# cca --> complete conditional/case  analysis\n",
    "\n",
    "# df --> missing data ---> filter missing data --->\n",
    "# new df = filtered_columns_in which_we have_missing data\n",
    "\n",
    "# new_df = missing data drop\n",
    "\n",
    "# Archetecture---> Histogram ---> past column in which we have missing data\n",
    "# updated column in which we have no missing data\n",
    "\n",
    "# if past data architechture is overlap to new data architecture --> it means we can drop missing data\n",
    "# if past data architure is not overlap to new data architture --> it means we can not  drop missing data . "
   ]
  },
  {
   "cell_type": "code",
   "execution_count": 4,
   "id": "fd3d67dc",
   "metadata": {},
   "outputs": [],
   "source": [
    "df = pd.read_csv(\"dsjob.csv\")"
   ]
  },
  {
   "cell_type": "code",
   "execution_count": 5,
   "id": "c113b8cf",
   "metadata": {},
   "outputs": [
    {
     "data": {
      "text/html": [
       "<div>\n",
       "<style scoped>\n",
       "    .dataframe tbody tr th:only-of-type {\n",
       "        vertical-align: middle;\n",
       "    }\n",
       "\n",
       "    .dataframe tbody tr th {\n",
       "        vertical-align: top;\n",
       "    }\n",
       "\n",
       "    .dataframe thead th {\n",
       "        text-align: right;\n",
       "    }\n",
       "</style>\n",
       "<table border=\"1\" class=\"dataframe\">\n",
       "  <thead>\n",
       "    <tr style=\"text-align: right;\">\n",
       "      <th></th>\n",
       "      <th>enrollee_id</th>\n",
       "      <th>city</th>\n",
       "      <th>city_development_index</th>\n",
       "      <th>gender</th>\n",
       "      <th>relevent_experience</th>\n",
       "      <th>enrolled_university</th>\n",
       "      <th>education_level</th>\n",
       "      <th>major_discipline</th>\n",
       "      <th>experience</th>\n",
       "      <th>company_size</th>\n",
       "      <th>company_type</th>\n",
       "      <th>last_new_job</th>\n",
       "      <th>training_hours</th>\n",
       "    </tr>\n",
       "  </thead>\n",
       "  <tbody>\n",
       "    <tr>\n",
       "      <th>0</th>\n",
       "      <td>32403</td>\n",
       "      <td>city_41</td>\n",
       "      <td>0.827</td>\n",
       "      <td>Male</td>\n",
       "      <td>Has relevent experience</td>\n",
       "      <td>Full time course</td>\n",
       "      <td>Graduate</td>\n",
       "      <td>STEM</td>\n",
       "      <td>9</td>\n",
       "      <td>&lt;10</td>\n",
       "      <td>NaN</td>\n",
       "      <td>1</td>\n",
       "      <td>21</td>\n",
       "    </tr>\n",
       "    <tr>\n",
       "      <th>1</th>\n",
       "      <td>9858</td>\n",
       "      <td>city_103</td>\n",
       "      <td>0.920</td>\n",
       "      <td>Female</td>\n",
       "      <td>Has relevent experience</td>\n",
       "      <td>no_enrollment</td>\n",
       "      <td>Graduate</td>\n",
       "      <td>STEM</td>\n",
       "      <td>5</td>\n",
       "      <td>NaN</td>\n",
       "      <td>Pvt Ltd</td>\n",
       "      <td>1</td>\n",
       "      <td>98</td>\n",
       "    </tr>\n",
       "    <tr>\n",
       "      <th>2</th>\n",
       "      <td>31806</td>\n",
       "      <td>city_21</td>\n",
       "      <td>0.624</td>\n",
       "      <td>Male</td>\n",
       "      <td>No relevent experience</td>\n",
       "      <td>no_enrollment</td>\n",
       "      <td>High School</td>\n",
       "      <td>NaN</td>\n",
       "      <td>&lt;1</td>\n",
       "      <td>NaN</td>\n",
       "      <td>Pvt Ltd</td>\n",
       "      <td>never</td>\n",
       "      <td>15</td>\n",
       "    </tr>\n",
       "    <tr>\n",
       "      <th>3</th>\n",
       "      <td>27385</td>\n",
       "      <td>city_13</td>\n",
       "      <td>0.827</td>\n",
       "      <td>Male</td>\n",
       "      <td>Has relevent experience</td>\n",
       "      <td>no_enrollment</td>\n",
       "      <td>Masters</td>\n",
       "      <td>STEM</td>\n",
       "      <td>11</td>\n",
       "      <td>10/49</td>\n",
       "      <td>Pvt Ltd</td>\n",
       "      <td>1</td>\n",
       "      <td>39</td>\n",
       "    </tr>\n",
       "    <tr>\n",
       "      <th>4</th>\n",
       "      <td>27724</td>\n",
       "      <td>city_103</td>\n",
       "      <td>0.920</td>\n",
       "      <td>Male</td>\n",
       "      <td>Has relevent experience</td>\n",
       "      <td>no_enrollment</td>\n",
       "      <td>Graduate</td>\n",
       "      <td>STEM</td>\n",
       "      <td>&gt;20</td>\n",
       "      <td>10000+</td>\n",
       "      <td>Pvt Ltd</td>\n",
       "      <td>&gt;4</td>\n",
       "      <td>72</td>\n",
       "    </tr>\n",
       "  </tbody>\n",
       "</table>\n",
       "</div>"
      ],
      "text/plain": [
       "   enrollee_id      city  city_development_index  gender  \\\n",
       "0        32403   city_41                   0.827    Male   \n",
       "1         9858  city_103                   0.920  Female   \n",
       "2        31806   city_21                   0.624    Male   \n",
       "3        27385   city_13                   0.827    Male   \n",
       "4        27724  city_103                   0.920    Male   \n",
       "\n",
       "       relevent_experience enrolled_university education_level  \\\n",
       "0  Has relevent experience    Full time course        Graduate   \n",
       "1  Has relevent experience       no_enrollment        Graduate   \n",
       "2   No relevent experience       no_enrollment     High School   \n",
       "3  Has relevent experience       no_enrollment         Masters   \n",
       "4  Has relevent experience       no_enrollment        Graduate   \n",
       "\n",
       "  major_discipline experience company_size company_type last_new_job  \\\n",
       "0             STEM          9          <10          NaN            1   \n",
       "1             STEM          5          NaN      Pvt Ltd            1   \n",
       "2              NaN         <1          NaN      Pvt Ltd        never   \n",
       "3             STEM         11        10/49      Pvt Ltd            1   \n",
       "4             STEM        >20       10000+      Pvt Ltd           >4   \n",
       "\n",
       "   training_hours  \n",
       "0              21  \n",
       "1              98  \n",
       "2              15  \n",
       "3              39  \n",
       "4              72  "
      ]
     },
     "execution_count": 5,
     "metadata": {},
     "output_type": "execute_result"
    }
   ],
   "source": [
    "df.head()"
   ]
  },
  {
   "cell_type": "code",
   "execution_count": 6,
   "id": "c7e8a631",
   "metadata": {},
   "outputs": [
    {
     "data": {
      "text/plain": [
       "enrollee_id                0.000000\n",
       "city                       0.000000\n",
       "city_development_index     0.000000\n",
       "gender                    23.860968\n",
       "relevent_experience        0.000000\n",
       "enrolled_university        1.456083\n",
       "education_level            2.442461\n",
       "major_discipline          14.654767\n",
       "experience                 0.234852\n",
       "company_size              29.215594\n",
       "company_type              29.779239\n",
       "last_new_job               1.878816\n",
       "training_hours             0.000000\n",
       "dtype: float64"
      ]
     },
     "execution_count": 6,
     "metadata": {},
     "output_type": "execute_result"
    }
   ],
   "source": [
    "df.isnull().mean()*100"
   ]
  },
  {
   "cell_type": "code",
   "execution_count": 25,
   "id": "ad8db2ac",
   "metadata": {},
   "outputs": [
    {
     "data": {
      "text/plain": [
       "['enrolled_university', 'education_level', 'experience', 'last_new_job']"
      ]
     },
     "execution_count": 25,
     "metadata": {},
     "output_type": "execute_result"
    }
   ],
   "source": [
    "cols = [var for var in df.columns if df[var].isnull().mean() < 0.05 and df[var].isnull().mean() > 0]\n",
    "cols"
   ]
  },
  {
   "cell_type": "code",
   "execution_count": 26,
   "id": "c3523e54",
   "metadata": {},
   "outputs": [
    {
     "data": {
      "text/html": [
       "<div>\n",
       "<style scoped>\n",
       "    .dataframe tbody tr th:only-of-type {\n",
       "        vertical-align: middle;\n",
       "    }\n",
       "\n",
       "    .dataframe tbody tr th {\n",
       "        vertical-align: top;\n",
       "    }\n",
       "\n",
       "    .dataframe thead th {\n",
       "        text-align: right;\n",
       "    }\n",
       "</style>\n",
       "<table border=\"1\" class=\"dataframe\">\n",
       "  <thead>\n",
       "    <tr style=\"text-align: right;\">\n",
       "      <th></th>\n",
       "      <th>enrolled_university</th>\n",
       "      <th>education_level</th>\n",
       "      <th>experience</th>\n",
       "      <th>last_new_job</th>\n",
       "    </tr>\n",
       "  </thead>\n",
       "  <tbody>\n",
       "    <tr>\n",
       "      <th>199</th>\n",
       "      <td>no_enrollment</td>\n",
       "      <td>Graduate</td>\n",
       "      <td>5</td>\n",
       "      <td>1</td>\n",
       "    </tr>\n",
       "    <tr>\n",
       "      <th>1120</th>\n",
       "      <td>no_enrollment</td>\n",
       "      <td>Masters</td>\n",
       "      <td>11</td>\n",
       "      <td>2</td>\n",
       "    </tr>\n",
       "    <tr>\n",
       "      <th>1189</th>\n",
       "      <td>no_enrollment</td>\n",
       "      <td>Graduate</td>\n",
       "      <td>1</td>\n",
       "      <td>1</td>\n",
       "    </tr>\n",
       "    <tr>\n",
       "      <th>1163</th>\n",
       "      <td>Full time course</td>\n",
       "      <td>Graduate</td>\n",
       "      <td>&lt;1</td>\n",
       "      <td>1</td>\n",
       "    </tr>\n",
       "    <tr>\n",
       "      <th>1370</th>\n",
       "      <td>no_enrollment</td>\n",
       "      <td>Masters</td>\n",
       "      <td>&gt;20</td>\n",
       "      <td>1</td>\n",
       "    </tr>\n",
       "  </tbody>\n",
       "</table>\n",
       "</div>"
      ],
      "text/plain": [
       "     enrolled_university education_level experience last_new_job\n",
       "199        no_enrollment        Graduate          5            1\n",
       "1120       no_enrollment         Masters         11            2\n",
       "1189       no_enrollment        Graduate          1            1\n",
       "1163    Full time course        Graduate         <1            1\n",
       "1370       no_enrollment         Masters        >20            1"
      ]
     },
     "execution_count": 26,
     "metadata": {},
     "output_type": "execute_result"
    }
   ],
   "source": [
    "df[cols].sample(5)"
   ]
  },
  {
   "cell_type": "code",
   "execution_count": 27,
   "id": "1eecd8ba",
   "metadata": {},
   "outputs": [
    {
     "data": {
      "text/plain": [
       "education_level\n",
       "Graduate          1269\n",
       "Masters            496\n",
       "High School        222\n",
       "Phd                 54\n",
       "Primary School      36\n",
       "Name: count, dtype: int64"
      ]
     },
     "execution_count": 27,
     "metadata": {},
     "output_type": "execute_result"
    }
   ],
   "source": [
    "df['education_level'].value_counts()"
   ]
  },
  {
   "cell_type": "code",
   "execution_count": 28,
   "id": "5d64c912",
   "metadata": {},
   "outputs": [
    {
     "data": {
      "text/plain": [
       "0.9478628464067638"
      ]
     },
     "execution_count": 28,
     "metadata": {},
     "output_type": "execute_result"
    }
   ],
   "source": [
    "len(df[cols].dropna())/len(df)"
   ]
  },
  {
   "cell_type": "code",
   "execution_count": 29,
   "id": "6f317c2e",
   "metadata": {},
   "outputs": [
    {
     "data": {
      "text/plain": [
       "((2129, 13), (2018, 4))"
      ]
     },
     "execution_count": 29,
     "metadata": {},
     "output_type": "execute_result"
    }
   ],
   "source": [
    "new_df = df[cols].dropna()\n",
    "df.shape , new_df.shape"
   ]
  },
  {
   "cell_type": "code",
   "execution_count": 30,
   "id": "019862fb",
   "metadata": {},
   "outputs": [],
   "source": [
    "import matplotlib.pyplot as plt"
   ]
  },
  {
   "cell_type": "code",
   "execution_count": null,
   "id": "f2aeb43c",
   "metadata": {},
   "outputs": [
    {
     "data": {
      "text/plain": [
       "<Axes: >"
      ]
     },
     "execution_count": 31,
     "metadata": {},
     "output_type": "execute_result"
    },
    {
     "data": {
      "image/png": "[encoded data removed]",
      "text/plain": [
       "<Figure size 640x480 with 1 Axes>"
      ]
     },
     "metadata": {},
     "output_type": "display_data"
    }
   ],
   "source": [
    "fig = plt.figure()\n",
    "ax = fig.add_subplot(111)\n",
    "\n",
    "# original data \n",
    "df['experience'].hist(bins = 50 , ax =ax , density = True , color = 'red')\n",
    "\n",
    "# data after cca , the argument alpha makes the colur transparent , so we can see the overlay of the 2 dist\n",
    "new_df['experience'].hist(bins = 50 , ax =ax , density = True , alpha = 0.8)\n"
   ]
  },
  {
   "cell_type": "code",
   "execution_count": 39,
   "id": "9e42d284",
   "metadata": {},
   "outputs": [
    {
     "data": {
      "text/plain": [
       "<Axes: >"
      ]
     },
     "execution_count": 39,
     "metadata": {},
     "output_type": "execute_result"
    },
    {
     "data": {
      "image/png": "[encoded data removed]",
      "text/plain": [
       "<Figure size 640x480 with 1 Axes>"
      ]
     },
     "metadata": {},
     "output_type": "display_data"
    }
   ],
   "source": [
    "fig = plt.figure()\n",
    "ax = fig.add_subplot(111)\n",
    "\n",
    "# original data \n",
    "df['enrolled_university'].hist(bins = 50 , ax =ax , density = True , color = 'red')\n",
    "\n",
    "# data after cca , the argument alpha makes the colur transparent , so we can see the overlay of the 2 dist\n",
    "new_df_e_u['enrolled_university'].hist(bins = 50 , ax =ax , density = True , alpha = 0.8)\n"
   ]
  },
  {
   "cell_type": "code",
   "execution_count": 32,
   "id": "f22f1fa3",
   "metadata": {},
   "outputs": [
    {
     "data": {
      "text/html": [
       "<div>\n",
       "<style scoped>\n",
       "    .dataframe tbody tr th:only-of-type {\n",
       "        vertical-align: middle;\n",
       "    }\n",
       "\n",
       "    .dataframe tbody tr th {\n",
       "        vertical-align: top;\n",
       "    }\n",
       "\n",
       "    .dataframe thead th {\n",
       "        text-align: right;\n",
       "    }\n",
       "</style>\n",
       "<table border=\"1\" class=\"dataframe\">\n",
       "  <thead>\n",
       "    <tr style=\"text-align: right;\">\n",
       "      <th></th>\n",
       "      <th>original</th>\n",
       "      <th>cca</th>\n",
       "    </tr>\n",
       "    <tr>\n",
       "      <th>enrolled_university</th>\n",
       "      <th></th>\n",
       "      <th></th>\n",
       "    </tr>\n",
       "  </thead>\n",
       "  <tbody>\n",
       "    <tr>\n",
       "      <th>no_enrollment</th>\n",
       "      <td>0.713481</td>\n",
       "      <td>0.727948</td>\n",
       "    </tr>\n",
       "    <tr>\n",
       "      <th>Full time course</th>\n",
       "      <td>0.204321</td>\n",
       "      <td>0.202180</td>\n",
       "    </tr>\n",
       "    <tr>\n",
       "      <th>Part time course</th>\n",
       "      <td>0.067637</td>\n",
       "      <td>0.069871</td>\n",
       "    </tr>\n",
       "  </tbody>\n",
       "</table>\n",
       "</div>"
      ],
      "text/plain": [
       "                     original       cca\n",
       "enrolled_university                    \n",
       "no_enrollment        0.713481  0.727948\n",
       "Full time course     0.204321  0.202180\n",
       "Part time course     0.067637  0.069871"
      ]
     },
     "execution_count": 32,
     "metadata": {},
     "output_type": "execute_result"
    }
   ],
   "source": [
    "temp = pd.concat([\n",
    "    # percent of obser per cat , org dat\n",
    "    df['enrolled_university'].value_counts()/ len(df),\n",
    "\n",
    "    # per of obser per cat , cca dat\n",
    "    new_df['enrolled_university'].value_counts()/len(new_df)\n",
    "],\n",
    "axis = 1)\n",
    "\n",
    "# add column names \n",
    "temp.columns = ['original' , 'cca']\n",
    "temp"
   ]
  },
  {
   "cell_type": "code",
   "execution_count": 40,
   "id": "c9a4c665",
   "metadata": {},
   "outputs": [
    {
     "data": {
      "text/plain": [
       "<Axes: >"
      ]
     },
     "execution_count": 40,
     "metadata": {},
     "output_type": "execute_result"
    },
    {
     "data": {
      "image/png": "[encoded data removed]",
      "text/plain": [
       "<Figure size 640x480 with 1 Axes>"
      ]
     },
     "metadata": {},
     "output_type": "display_data"
    }
   ],
   "source": [
    "fig = plt.figure()\n",
    "ax = fig.add_subplot(111)\n",
    "\n",
    "# original data \n",
    "df['education_level'].hist(bins = 50 , ax =ax , density = True , color = 'red')\n",
    "\n",
    "# data after cca , the argument alpha makes the colur transparent , so we can see the overlay of the 2 dist\n",
    "new_df_e_u['education_level'].hist(bins = 50 , ax =ax , density = True , alpha = 0.8)\n"
   ]
  },
  {
   "cell_type": "code",
   "execution_count": 33,
   "id": "d185e68f",
   "metadata": {},
   "outputs": [
    {
     "data": {
      "text/html": [
       "<div>\n",
       "<style scoped>\n",
       "    .dataframe tbody tr th:only-of-type {\n",
       "        vertical-align: middle;\n",
       "    }\n",
       "\n",
       "    .dataframe tbody tr th {\n",
       "        vertical-align: top;\n",
       "    }\n",
       "\n",
       "    .dataframe thead th {\n",
       "        text-align: right;\n",
       "    }\n",
       "</style>\n",
       "<table border=\"1\" class=\"dataframe\">\n",
       "  <thead>\n",
       "    <tr style=\"text-align: right;\">\n",
       "      <th></th>\n",
       "      <th>original</th>\n",
       "      <th>cca</th>\n",
       "    </tr>\n",
       "    <tr>\n",
       "      <th>education_level</th>\n",
       "      <th></th>\n",
       "      <th></th>\n",
       "    </tr>\n",
       "  </thead>\n",
       "  <tbody>\n",
       "    <tr>\n",
       "      <th>Graduate</th>\n",
       "      <td>0.596054</td>\n",
       "      <td>0.611497</td>\n",
       "    </tr>\n",
       "    <tr>\n",
       "      <th>Masters</th>\n",
       "      <td>0.232973</td>\n",
       "      <td>0.239346</td>\n",
       "    </tr>\n",
       "    <tr>\n",
       "      <th>High School</th>\n",
       "      <td>0.104274</td>\n",
       "      <td>0.106541</td>\n",
       "    </tr>\n",
       "    <tr>\n",
       "      <th>Phd</th>\n",
       "      <td>0.025364</td>\n",
       "      <td>0.026264</td>\n",
       "    </tr>\n",
       "    <tr>\n",
       "      <th>Primary School</th>\n",
       "      <td>0.016909</td>\n",
       "      <td>0.016353</td>\n",
       "    </tr>\n",
       "  </tbody>\n",
       "</table>\n",
       "</div>"
      ],
      "text/plain": [
       "                 original       cca\n",
       "education_level                    \n",
       "Graduate         0.596054  0.611497\n",
       "Masters          0.232973  0.239346\n",
       "High School      0.104274  0.106541\n",
       "Phd              0.025364  0.026264\n",
       "Primary School   0.016909  0.016353"
      ]
     },
     "execution_count": 33,
     "metadata": {},
     "output_type": "execute_result"
    }
   ],
   "source": [
    "temp = pd.concat([\n",
    "    # per of obser per cat , org dat\n",
    "    df['education_level'].value_counts()/len(df),\n",
    "    # per of obser per cat , cca dat\n",
    "    new_df['education_level'].value_counts()/len(new_df)\n",
    "    ], axis=1)\n",
    "temp.columns = ['original', 'cca']\n",
    "temp"
   ]
  },
  {
   "cell_type": "code",
   "execution_count": 41,
   "id": "8956dbaf",
   "metadata": {},
   "outputs": [
    {
     "data": {
      "text/plain": [
       "<Axes: >"
      ]
     },
     "execution_count": 41,
     "metadata": {},
     "output_type": "execute_result"
    },
    {
     "data": {
      "image/png": "[encoded data removed]",
      "text/plain": [
       "<Figure size 640x480 with 1 Axes>"
      ]
     },
     "metadata": {},
     "output_type": "display_data"
    }
   ],
   "source": [
    "fig = plt.figure()\n",
    "ax = fig.add_subplot(111)\n",
    "\n",
    "# original data \n",
    "df['last_new_job'].hist(bins = 50 , ax =ax , density = True , color = 'red')\n",
    "\n",
    "# data after cca , the argument alpha makes the colur transparent , so we can see the overlay of the 2 dist\n",
    "new_df_e_u['last_new_job'].hist(bins = 50 , ax =ax , density = True , alpha = 0.8)\n"
   ]
  },
  {
   "cell_type": "code",
   "execution_count": 42,
   "id": "6ff3e7ac",
   "metadata": {},
   "outputs": [
    {
     "data": {
      "text/html": [
       "<div>\n",
       "<style scoped>\n",
       "    .dataframe tbody tr th:only-of-type {\n",
       "        vertical-align: middle;\n",
       "    }\n",
       "\n",
       "    .dataframe tbody tr th {\n",
       "        vertical-align: top;\n",
       "    }\n",
       "\n",
       "    .dataframe thead th {\n",
       "        text-align: right;\n",
       "    }\n",
       "</style>\n",
       "<table border=\"1\" class=\"dataframe\">\n",
       "  <thead>\n",
       "    <tr style=\"text-align: right;\">\n",
       "      <th></th>\n",
       "      <th>original</th>\n",
       "      <th>cca</th>\n",
       "    </tr>\n",
       "    <tr>\n",
       "      <th>last_new_job</th>\n",
       "      <th></th>\n",
       "      <th></th>\n",
       "    </tr>\n",
       "  </thead>\n",
       "  <tbody>\n",
       "    <tr>\n",
       "      <th>1</th>\n",
       "      <td>0.415218</td>\n",
       "      <td>0.426660</td>\n",
       "    </tr>\n",
       "    <tr>\n",
       "      <th>&gt;4</th>\n",
       "      <td>0.165806</td>\n",
       "      <td>0.170961</td>\n",
       "    </tr>\n",
       "    <tr>\n",
       "      <th>2</th>\n",
       "      <td>0.160639</td>\n",
       "      <td>0.162537</td>\n",
       "    </tr>\n",
       "    <tr>\n",
       "      <th>never</th>\n",
       "      <td>0.121184</td>\n",
       "      <td>0.116452</td>\n",
       "    </tr>\n",
       "    <tr>\n",
       "      <th>3</th>\n",
       "      <td>0.062471</td>\n",
       "      <td>0.065411</td>\n",
       "    </tr>\n",
       "    <tr>\n",
       "      <th>4</th>\n",
       "      <td>0.055895</td>\n",
       "      <td>0.057978</td>\n",
       "    </tr>\n",
       "  </tbody>\n",
       "</table>\n",
       "</div>"
      ],
      "text/plain": [
       "              original       cca\n",
       "last_new_job                    \n",
       "1             0.415218  0.426660\n",
       ">4            0.165806  0.170961\n",
       "2             0.160639  0.162537\n",
       "never         0.121184  0.116452\n",
       "3             0.062471  0.065411\n",
       "4             0.055895  0.057978"
      ]
     },
     "execution_count": 42,
     "metadata": {},
     "output_type": "execute_result"
    }
   ],
   "source": [
    "temp = pd.concat([\n",
    "    # per of obser per cat , org dat\n",
    "    df['last_new_job'].value_counts()/len(df),\n",
    "    # per of obser per cat , cca dat\n",
    "    new_df['last_new_job'].value_counts()/len(new_df)\n",
    "    ], axis=1)\n",
    "temp.columns = ['original', 'cca']\n",
    "temp"
   ]
  },
  {
   "cell_type": "code",
   "execution_count": null,
   "id": "0fdcdb39",
   "metadata": {},
   "outputs": [],
   "source": [
    "# apply on all of the columns \n",
    "# take the 25% of data "
   ]
  }
 ],
 "metadata": {
  "kernelspec": {
   "display_name": "base",
   "language": "python",
   "name": "python3"
  },
  "language_info": {
   "codemirror_mode": {
    "name": "ipython",
    "version": 3
   },
   "file_extension": ".py",
   "mimetype": "text/x-python",
   "name": "python",
   "nbconvert_exporter": "python",
   "pygments_lexer": "ipython3",
   "version": "3.12.7"
  }
 },
 "nbformat": 4,
 "nbformat_minor": 5
}
